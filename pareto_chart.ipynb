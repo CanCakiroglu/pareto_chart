{
 "cells": [
  {
   "cell_type": "code",
   "execution_count": 37,
   "metadata": {},
   "outputs": [],
   "source": [
    "import pandas as pd\n",
    "import numpy as np\n",
    "import matplotlib.pyplot as plt"
   ]
  },
  {
   "cell_type": "code",
   "execution_count": 43,
   "metadata": {},
   "outputs": [],
   "source": [
    "df = pd.DataFrame({\n",
    "    \"Component\": [\"Pump\"]*3 + [\"Valve\"]*2 + [\"Powerboard\"]*2 + [\"Fan\"]*3 + [\"Housing\"]*8 + [\"Stator\"]*12 + [\"Rotor\"]*20,\n",
    "    \"Scrapped Value\": np.random.randint(5000, 90000, 50)\n",
    "})"
   ]
  },
  {
   "cell_type": "code",
   "execution_count": 44,
   "metadata": {},
   "outputs": [
    {
     "data": {
      "text/html": [
       "<div>\n",
       "<style scoped>\n",
       "    .dataframe tbody tr th:only-of-type {\n",
       "        vertical-align: middle;\n",
       "    }\n",
       "\n",
       "    .dataframe tbody tr th {\n",
       "        vertical-align: top;\n",
       "    }\n",
       "\n",
       "    .dataframe thead th {\n",
       "        text-align: right;\n",
       "    }\n",
       "</style>\n",
       "<table border=\"1\" class=\"dataframe\">\n",
       "  <thead>\n",
       "    <tr style=\"text-align: right;\">\n",
       "      <th></th>\n",
       "      <th>Scrapped Value</th>\n",
       "      <th>Cumulative Percentage</th>\n",
       "    </tr>\n",
       "    <tr>\n",
       "      <th>Component</th>\n",
       "      <th></th>\n",
       "      <th></th>\n",
       "    </tr>\n",
       "  </thead>\n",
       "  <tbody>\n",
       "    <tr>\n",
       "      <th>Rotor</th>\n",
       "      <td>1025065</td>\n",
       "      <td>0.416330</td>\n",
       "    </tr>\n",
       "    <tr>\n",
       "      <th>Stator</th>\n",
       "      <td>580817</td>\n",
       "      <td>0.652229</td>\n",
       "    </tr>\n",
       "    <tr>\n",
       "      <th>Housing</th>\n",
       "      <td>392954</td>\n",
       "      <td>0.811828</td>\n",
       "    </tr>\n",
       "    <tr>\n",
       "      <th>Pump</th>\n",
       "      <td>127821</td>\n",
       "      <td>0.863742</td>\n",
       "    </tr>\n",
       "    <tr>\n",
       "      <th>Valve</th>\n",
       "      <td>126010</td>\n",
       "      <td>0.914921</td>\n",
       "    </tr>\n",
       "    <tr>\n",
       "      <th>Fan</th>\n",
       "      <td>122537</td>\n",
       "      <td>0.964690</td>\n",
       "    </tr>\n",
       "    <tr>\n",
       "      <th>Powerboard</th>\n",
       "      <td>86939</td>\n",
       "      <td>1.000000</td>\n",
       "    </tr>\n",
       "  </tbody>\n",
       "</table>\n",
       "</div>"
      ],
      "text/plain": [
       "            Scrapped Value  Cumulative Percentage\n",
       "Component                                        \n",
       "Rotor              1025065               0.416330\n",
       "Stator              580817               0.652229\n",
       "Housing             392954               0.811828\n",
       "Pump                127821               0.863742\n",
       "Valve               126010               0.914921\n",
       "Fan                 122537               0.964690\n",
       "Powerboard           86939               1.000000"
      ]
     },
     "execution_count": 44,
     "metadata": {},
     "output_type": "execute_result"
    }
   ],
   "source": [
    "grp = df.groupby('Component').sum().sort_values(by=[\"Scrapped Value\"], ascending=False)\n",
    "grp[\"Cumulative Percentage\"] = (grp[\"Scrapped Value\"]/grp[\"Scrapped Value\"].sum()).cumsum()\n",
    "grp"
   ]
  },
  {
   "cell_type": "code",
   "execution_count": 45,
   "metadata": {},
   "outputs": [
    {
     "data": {
      "text/plain": [
       "(0.0, 100.0)"
      ]
     },
     "execution_count": 45,
     "metadata": {},
     "output_type": "execute_result"
    },
    {
     "data": {
      "image/png": "[encoded data removed]",
      "text/plain": [
       "<Figure size 432x288 with 2 Axes>"
      ]
     },
     "metadata": {
      "needs_background": "light"
     },
     "output_type": "display_data"
    }
   ],
   "source": [
    "fig, ax1 = plt.subplots()\n",
    "\n",
    "ax1.set_xlabel('Component')\n",
    "ax1.set_ylabel('Scrapped Value [EUR]')\n",
    "ax1.bar(grp.index, grp[\"Scrapped Value\"])\n",
    "\n",
    "ax2 =ax1.twinx()\n",
    "\n",
    "color = 'tab:red'\n",
    "ax2.set_ylabel('Cumulative Percentage [%]', color=color)\n",
    "ax2.plot(grp.index, grp[\"Cumulative Percentage\"]*100, color=color)\n",
    "ax2.tick_params(axis='y', labelcolor=color)\n",
    "ax2.set_ylim(0,100)"
   ]
  },
  {
   "cell_type": "code",
   "execution_count": null,
   "metadata": {},
   "outputs": [],
   "source": []
  },
  {
   "cell_type": "code",
   "execution_count": null,
   "metadata": {},
   "outputs": [],
   "source": []
  }
 ],
 "metadata": {
  "kernelspec": {
   "display_name": "Python 3",
   "language": "python",
   "name": "python3"
  },
  "language_info": {
   "codemirror_mode": {
    "name": "ipython",
    "version": 3
   },
   "file_extension": ".py",
   "mimetype": "text/x-python",
   "name": "python",
   "nbconvert_exporter": "python",
   "pygments_lexer": "ipython3",
   "version": "3.8.2"
  }
 },
 "nbformat": 4,
 "nbformat_minor": 4
}
